{
 "cells": [
  {
   "cell_type": "code",
   "execution_count": 1,
   "metadata": {
    "collapsed": true
   },
   "outputs": [],
   "source": [
    "import os\n",
    "import json\n",
    "import subprocess\n",
    "\n",
    "import titlecase\n",
    "import pandas"
   ]
  },
  {
   "cell_type": "code",
   "execution_count": 2,
   "metadata": {
    "collapsed": false
   },
   "outputs": [],
   "source": [
    "with open('template-full.txt') as read_file:\n",
    "    template_full = read_file.read()\n",
    "with open('template-mini.txt') as read_file:\n",
    "    template_mini = read_file.read()"
   ]
  },
  {
   "cell_type": "code",
   "execution_count": 3,
   "metadata": {
    "collapsed": false
   },
   "outputs": [],
   "source": [
    "def format_df(df):\n",
    "    for key in 'percent_of_prediction', 'percent_of_DWPC':\n",
    "        if not key in df.columns:\n",
    "            continue\n",
    "        df[key] = df[key].map('{:.2%}'.format)\n",
    "    df.columns = df.columns.map(lambda x: titlecase.titlecase(x.replace('_', ' ')))\n",
    "    return df"
   ]
  },
  {
   "cell_type": "code",
   "execution_count": 4,
   "metadata": {
    "collapsed": false
   },
   "outputs": [],
   "source": [
    "# Create a dictionary of (compound_id, disease_id) to clinical trial IDs\n",
    "url = 'https://github.com/dhimmel/clintrials/raw/7c65dec7b69322ca2f8ba2b170c1b3dbd92ebff8/data/DrugBank-DO-slim.tsv'\n",
    "clintrial_df = pandas.read_table(url)\n",
    "cd_to_trials = {key: list(df.nct_id) for key, df in clintrial_df.groupby(['compound_id', 'disease_id'])}"
   ]
  },
  {
   "cell_type": "code",
   "execution_count": 13,
   "metadata": {
    "collapsed": false
   },
   "outputs": [
    {
     "data": {
      "text/plain": [
       "1388"
      ]
     },
     "execution_count": 13,
     "metadata": {},
     "output_type": "execute_result"
    }
   ],
   "source": [
    "predictions_df = pandas.read_table('../learn/prediction/predictions/probabilities.tsv')\n",
    "pairs = list(zip(predictions_df.compound_id, predictions_df.disease_id))\n",
    "len(pairs)"
   ]
  },
  {
   "cell_type": "code",
   "execution_count": 16,
   "metadata": {
    "collapsed": false
   },
   "outputs": [],
   "source": [
    "def create_guide(compound_id, disease_id):\n",
    "    params = {}\n",
    "    directory = '../het.io-rep-data/browser/{}/{}/'.format(compound_id, disease_id.replace(':', '_'))\n",
    "\n",
    "    with open(os.path.join(directory, 'info.json')) as read_file:\n",
    "        info = json.load(read_file)\n",
    "    for key in 'compound_id', 'disease_id', 'compound_name', 'disease_name', 'prediction', 'compound_percentile', 'disease_percentile', 'category':\n",
    "        if key in info:\n",
    "            params[key] = info[key]\n",
    "    params['fold_change'] = params['prediction'] / 0.00361 - 1\n",
    "    for key in 'compound_percentile', 'disease_percentile':\n",
    "        params[key] *= 100\n",
    "\n",
    "    metapath_df = (\n",
    "        pandas.Series(info['metapath_contribution'])\n",
    "        .reset_index()\n",
    "        .rename(columns = {'index': 'metapath', 0: 'percent_of_prediction'})\n",
    "        .sort_values('percent_of_prediction', ascending=False)\n",
    "        .pipe(format_df)\n",
    "    )\n",
    "    params['metapath_csv'] = metapath_df.to_csv(index=False).rstrip('\\n')\n",
    "\n",
    "    path = os.path.join(directory, 'highlights.cyp')\n",
    "    if os.path.exists(path):\n",
    "        with open(path) as read_file:\n",
    "            params['path_query'] = read_file.read()\n",
    "\n",
    "        path_df = (\n",
    "            pandas.read_table(os.path.join(directory, 'paths.tsv'))\n",
    "            .pipe(format_df)\n",
    "            .head(25)\n",
    "        )\n",
    "        params['path_csv'] = path_df.to_csv(index=False).rstrip('\\n')\n",
    "        \n",
    "    # Clinical Trials param\n",
    "    trials = cd_to_trials.get((compound_id, disease_id), [])\n",
    "    if trials:\n",
    "        links = ', '.join('link:https://clinicaltrials.gov/ct2/show/{0}[[small]#{0}#]'.format(nct_id) for nct_id in trials)\n",
    "        params['trial_sentence'] = 'ClinicalTrials.gov contains {n_trials} clinical trials investigating whether {compound_name} treats {disease_name} ({links}).'.format(links=links, n_trials=len(trials), **params)\n",
    "    else:\n",
    "        params['trial_sentence'] = 'No matching clinical trials were found in ClinicalTrials.gov.'\n",
    "\n",
    "    # PharmacotherapyDB\n",
    "    category = params.get('category')\n",
    "    if category:\n",
    "        indication_type = {'DM': 'disease-modifying ', 'SYM': 'symptomatic ', 'NOT': 'non-'}[category]\n",
    "        params['phmcdb_sentence'] = 'In link:https://doi.org/10.15363/thinklab.d182[PharmacotherapyDB v1.0], {compound_name} is classified as a {indication_type}indication for {disease_name}.'.format(indication_type=indication_type, **params)\n",
    "    else:\n",
    "        params['phmcdb_sentence'] = 'link:https://doi.org/10.15363/thinklab.d182[PharmacotherapyDB v1.0] does not contain an indication between {compound_name} and {disease_name}.'.format(**params)\n",
    "        \n",
    "    \n",
    "    #template = if 'path_query' in params else\n",
    "    template = template_full if 'path_csv' in params else template_mini\n",
    "    adoc = template.format(**params)\n",
    "    with open('./guides/temp.adoc', 'wt') as write_file:\n",
    "        write_file.write(adoc)\n",
    "\n",
    "    path = os.path.join('..', 'guides', compound_id, '{}.html'.format(disease_id.replace(':', '_')))\n",
    "    os.makedirs(os.path.dirname(path), exist_ok=True)\n",
    "    subprocess.check_call(\"bash ./run.sh ../guides/temp.adoc {}\".format(path),\n",
    "        shell=True, cwd='neo4j-guides/')\n",
    "    "
   ]
  },
  {
   "cell_type": "code",
   "execution_count": null,
   "metadata": {
    "collapsed": false
   },
   "outputs": [],
   "source": [
    "%%time\n",
    "for compound_id, disease_id in pairs:\n",
    "    create_guide(compound_id, disease_id)"
   ]
  },
  {
   "cell_type": "code",
   "execution_count": 8,
   "metadata": {
    "collapsed": false
   },
   "outputs": [],
   "source": [
    "#cp guides/example.html /home/dhimmel/neo4j/hetionet-data/guides/example.html"
   ]
  },
  {
   "cell_type": "code",
   "execution_count": 18,
   "metadata": {
    "collapsed": true
   },
   "outputs": [],
   "source": [
    "rm ./guides/temp.adoc"
   ]
  },
  {
   "cell_type": "code",
   "execution_count": 19,
   "metadata": {
    "collapsed": false
   },
   "outputs": [
    {
     "name": "stdout",
     "output_type": "stream",
     "text": [
      "CPU times: user 6.33 s, sys: 836 ms, total: 7.16 s\n",
      "Wall time: 7min 14s\n"
     ]
    }
   ],
   "source": [
    "%%time\n",
    "# Create a bzip2-tarball of guides\n",
    "! tar --create --bzip2 --file guides.tar.bz2 guides"
   ]
  }
 ],
 "metadata": {
  "kernelspec": {
   "display_name": "Python 3",
   "language": "python",
   "name": "python3"
  },
  "language_info": {
   "codemirror_mode": {
    "name": "ipython",
    "version": 3
   },
   "file_extension": ".py",
   "mimetype": "text/x-python",
   "name": "python",
   "nbconvert_exporter": "python",
   "pygments_lexer": "ipython3",
   "version": "3.5.1"
  }
 },
 "nbformat": 4,
 "nbformat_minor": 0
}
