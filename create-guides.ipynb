{
 "cells": [
  {
   "cell_type": "markdown",
   "metadata": {},
   "source": [
    "# Create Project Rephetio Neo4j Browser Guides"
   ]
  },
  {
   "cell_type": "code",
   "execution_count": 1,
   "metadata": {
    "collapsed": true
   },
   "outputs": [],
   "source": [
    "import os\n",
    "import json\n",
    "import subprocess\n",
    "import re\n",
    "\n",
    "import titlecase\n",
    "import pandas"
   ]
  },
  {
   "cell_type": "code",
   "execution_count": 2,
   "metadata": {
    "collapsed": false
   },
   "outputs": [],
   "source": [
    "with open('template-full.txt') as read_file:\n",
    "    template_full = read_file.read()\n",
    "with open('template-mini.txt') as read_file:\n",
    "    template_mini = read_file.read()"
   ]
  },
  {
   "cell_type": "code",
   "execution_count": 3,
   "metadata": {
    "collapsed": false
   },
   "outputs": [],
   "source": [
    "def format_df(df):\n",
    "    for key in 'percent_of_prediction', 'percent_of_DWPC':\n",
    "        if key in df.columns:\n",
    "            df[key] = df[key].map('{:.2%}'.format)\n",
    "    for key in 'path_count', 'distinct_metapaths':\n",
    "        if key in df.columns:\n",
    "            df[key] = df[key].map('{:,.0f}'.format)\n",
    "\n",
    "    df.columns = df.columns.map(lambda x: titlecase.titlecase(x.replace('_', ' ')))\n",
    "    return df"
   ]
  },
  {
   "cell_type": "code",
   "execution_count": 4,
   "metadata": {
    "collapsed": false
   },
   "outputs": [],
   "source": [
    "# Create a dictionary of (compound_id, disease_id) to clinical trial IDs\n",
    "url = 'https://github.com/dhimmel/clintrials/raw/7c65dec7b69322ca2f8ba2b170c1b3dbd92ebff8/data/DrugBank-DO-slim.tsv'\n",
    "clintrial_df = pandas.read_table(url)\n",
    "cd_to_trials = {key: list(df.nct_id) for key, df in clintrial_df.groupby(['compound_id', 'disease_id'])}"
   ]
  },
  {
   "cell_type": "code",
   "execution_count": 5,
   "metadata": {
    "collapsed": false
   },
   "outputs": [
    {
     "data": {
      "text/plain": [
       "209168"
      ]
     },
     "execution_count": 5,
     "metadata": {},
     "output_type": "execute_result"
    }
   ],
   "source": [
    "predictions_df = pandas.read_table('../learn/prediction/predictions/probabilities.tsv')\n",
    "pairs = list(zip(predictions_df.compound_id, predictions_df.disease_id))\n",
    "len(pairs)"
   ]
  },
  {
   "cell_type": "code",
   "execution_count": 6,
   "metadata": {
    "collapsed": false
   },
   "outputs": [
    {
     "data": {
      "text/html": [
       "<div>\n",
       "<table border=\"1\" class=\"dataframe\">\n",
       "  <thead>\n",
       "    <tr style=\"text-align: right;\">\n",
       "      <th></th>\n",
       "      <th>compound_id</th>\n",
       "      <th>disease_id</th>\n",
       "      <th>metapath</th>\n",
       "      <th>path_count</th>\n",
       "    </tr>\n",
       "  </thead>\n",
       "  <tbody>\n",
       "    <tr>\n",
       "      <th>0</th>\n",
       "      <td>DB01048</td>\n",
       "      <td>DOID:10652</td>\n",
       "      <td>CpDpCtD</td>\n",
       "      <td>0</td>\n",
       "    </tr>\n",
       "    <tr>\n",
       "      <th>1</th>\n",
       "      <td>DB01048</td>\n",
       "      <td>DOID:14330</td>\n",
       "      <td>CpDpCtD</td>\n",
       "      <td>0</td>\n",
       "    </tr>\n",
       "  </tbody>\n",
       "</table>\n",
       "</div>"
      ],
      "text/plain": [
       "  compound_id  disease_id metapath  path_count\n",
       "0     DB01048  DOID:10652  CpDpCtD           0\n",
       "1     DB01048  DOID:14330  CpDpCtD           0"
      ]
     },
     "execution_count": 6,
     "metadata": {},
     "output_type": "execute_result"
    }
   ],
   "source": [
    "# Load the dataframe of path counts\n",
    "path_count_df = (\n",
    "    pandas.read_table('../learn/prediction/features/dwpc.tsv.bz2')\n",
    "    .query(\"hetnet == 'hetio-ind'\")\n",
    "    [['compound_id', 'disease_id', 'metapath', 'PC']]\n",
    "    .rename(columns={'PC': 'path_count'})\n",
    ")\n",
    "pair_to_path_counts = dict(iter(path_count_df.groupby(['compound_id', 'disease_id'])))\n",
    "path_count_df.head(2)"
   ]
  },
  {
   "cell_type": "code",
   "execution_count": 7,
   "metadata": {
    "collapsed": false
   },
   "outputs": [
    {
     "data": {
      "text/html": [
       "<div>\n",
       "<table border=\"1\" class=\"dataframe\">\n",
       "  <thead>\n",
       "    <tr style=\"text-align: right;\">\n",
       "      <th></th>\n",
       "      <th>metapath</th>\n",
       "      <th>length</th>\n",
       "      <th>verbose</th>\n",
       "    </tr>\n",
       "  </thead>\n",
       "  <tbody>\n",
       "    <tr>\n",
       "      <th>0</th>\n",
       "      <td>CbGaD</td>\n",
       "      <td>2</td>\n",
       "      <td>Compound–binds–Gene–associates–Disease</td>\n",
       "    </tr>\n",
       "    <tr>\n",
       "      <th>1</th>\n",
       "      <td>CbGdD</td>\n",
       "      <td>2</td>\n",
       "      <td>Compound–binds–Gene–downregulates–Disease</td>\n",
       "    </tr>\n",
       "  </tbody>\n",
       "</table>\n",
       "</div>"
      ],
      "text/plain": [
       "  metapath  length                                    verbose\n",
       "0    CbGaD       2     Compound–binds–Gene–associates–Disease\n",
       "1    CbGdD       2  Compound–binds–Gene–downregulates–Disease"
      ]
     },
     "execution_count": 7,
     "metadata": {},
     "output_type": "execute_result"
    }
   ],
   "source": [
    "# Load the dataframe of full metapath names\n",
    "url = 'https://github.com/dhimmel/learn/raw/d2251a942813015d0362a90f179c961016336e77/prediction/features/metapaths.tsv'\n",
    "metapath_name_df = (\n",
    "    pandas.read_table(url)\n",
    "    [['metapath', 'length', 'verbose']]\n",
    ")\n",
    "metapath_name_df.head(2)"
   ]
  },
  {
   "cell_type": "code",
   "execution_count": 8,
   "metadata": {
    "collapsed": false
   },
   "outputs": [],
   "source": [
    "pattern = re.compile(r'([→—←–])')\n",
    "def get_verbose_path(metapath_verbose, nodes_verbose):\n",
    "    \"\"\"\n",
    "    Combine a verbose metapath and node string.\n",
    "    \n",
    "    Example:\n",
    "    \n",
    "    metapath_verbose: Octreotide—MPO—superior mesenteric artery—duodenum cancer\n",
    "    nodes_verbose: Compound–binds–Gene–expresses–Anatomy–localizes–Disease\n",
    "    returns: Octreotide–binds–MPO–expresses–superior mesenteric artery–localizes–duodenum cancer\n",
    "    \"\"\"\n",
    "    metapath_split = re.split(pattern, metapath_verbose)\n",
    "    path_split = re.split(pattern, nodes_verbose)\n",
    "    for i, node in enumerate(path_split[::2]):\n",
    "        metapath_split[i * 4] = node\n",
    "    return ''.join(metapath_split)"
   ]
  },
  {
   "cell_type": "code",
   "execution_count": 9,
   "metadata": {
    "collapsed": true
   },
   "outputs": [],
   "source": [
    "def get_edge_df(df):\n",
    "    s = pandas.Series()\n",
    "    s['percent_of_prediction'] = df.percent_of_prediction.sum()\n",
    "    s['path_count'] = len(df)\n",
    "    s['distinct_metapaths'] = df.metapath.nunique()\n",
    "    return s"
   ]
  },
  {
   "cell_type": "code",
   "execution_count": 10,
   "metadata": {
    "collapsed": false
   },
   "outputs": [],
   "source": [
    "def create_guide(compound_id, disease_id):\n",
    "    params = {}\n",
    "    directory = '../het.io-rep-data/prediction-info/{}/{}/'.format(compound_id, disease_id.replace(':', '_'))\n",
    "\n",
    "    with open(os.path.join(directory, 'info.json')) as read_file:\n",
    "        info = json.load(read_file)\n",
    "    for key in 'compound_id', 'disease_id', 'compound_name', 'disease_name', 'prediction', 'compound_percentile', 'disease_percentile', 'category':\n",
    "        if key in info:\n",
    "            params[key] = info[key]\n",
    "    params['fold_change'] = params['prediction'] / 0.00361 - 1\n",
    "    for key in 'compound_percentile', 'disease_percentile':\n",
    "        params[key] *= 100\n",
    "    \n",
    "    path_count_df = pair_to_path_counts[(compound_id, disease_id)][['metapath', 'path_count']]\n",
    "    metapath_df = (\n",
    "        pandas.Series(info['metapath_contribution'])\n",
    "        .reset_index()\n",
    "        .rename(columns = {'index': 'metapath', 0: 'percent_of_prediction'})\n",
    "        .merge(path_count_df)\n",
    "        .merge(metapath_name_df)\n",
    "        .sort_values('percent_of_prediction', ascending=False)\n",
    "        .pipe(format_df)\n",
    "    )\n",
    "    params['metapath_csv'] = metapath_df.to_csv(index=False).rstrip('\\n')\n",
    "\n",
    "    path = os.path.join(directory, 'highlights.cyp')\n",
    "    if os.path.exists(path):\n",
    "        with open(path) as read_file:\n",
    "            params['path_query'] = read_file.read()\n",
    "        full_path_df = pandas.read_table(os.path.join(directory, 'paths.tsv'))\n",
    "        path_df = (full_path_df\n",
    "            .head(25)\n",
    "            .merge(metapath_name_df, how='left')\n",
    "        )\n",
    "        path_df['verbose_path'] = [get_verbose_path(*args) for args in zip(path_df.verbose, path_df.nodes)]\n",
    "        path_df = path_df[['percent_of_prediction', 'percent_of_DWPC', 'metapath', 'length', 'verbose_path']].copy().pipe(format_df)\n",
    "        params['path_csv'] = path_df.to_csv(index=False).rstrip('\\n')\n",
    "        \n",
    "        # Edge tables\n",
    "        for part in 'source', 'target':\n",
    "            edge_df = (full_path_df\n",
    "                .groupby(part + '_edge')\n",
    "                .apply(get_edge_df).reset_index()\n",
    "                .sort_values('percent_of_prediction', ascending=False)\n",
    "                .head(25)\n",
    "                .copy().pipe(format_df)\n",
    "            )\n",
    "            params[part + '_edge_csv'] = edge_df.to_csv(index=False).rstrip('\\n')\n",
    "\n",
    "    # Clinical Trials param\n",
    "    trials = cd_to_trials.get((compound_id, disease_id), [])\n",
    "    if trials:\n",
    "        links = ', '.join('link:https://clinicaltrials.gov/ct2/show/{0}[[small]#{0}#]'.format(nct_id) for nct_id in trials)\n",
    "        params['trial_sentence'] = 'ClinicalTrials.gov contains {n_trials} clinical trials investigating whether {compound_name} treats {disease_name} ({links}).'.format(links=links, n_trials=len(trials), **params)\n",
    "    else:\n",
    "        params['trial_sentence'] = 'No matching clinical trials were found in ClinicalTrials.gov.'\n",
    "\n",
    "    # PharmacotherapyDB\n",
    "    category = params.get('category')\n",
    "    if category:\n",
    "        indication_type = {'DM': 'disease-modifying ', 'SYM': 'symptomatic ', 'NOT': 'non-'}[category]\n",
    "        params['phmcdb_sentence'] = 'In link:https://doi.org/10.15363/thinklab.d182[PharmacotherapyDB v1.0], {compound_name} is classified as a {indication_type}indication for {disease_name}.'.format(indication_type=indication_type, **params)\n",
    "    else:\n",
    "        params['phmcdb_sentence'] = 'link:https://doi.org/10.15363/thinklab.d182[PharmacotherapyDB v1.0] does not contain an indication between {compound_name} and {disease_name}.'.format(**params)\n",
    "        \n",
    "    \n",
    "    #template = if 'path_query' in params else\n",
    "    template = template_full if 'path_csv' in params else template_mini\n",
    "    adoc = template.format(**params)\n",
    "    with open('./guides/temp.adoc', 'wt') as write_file:\n",
    "        write_file.write(adoc)\n",
    "\n",
    "    path = os.path.join('..', 'guides', compound_id, '{}.html'.format(disease_id.replace(':', '_')))\n",
    "    os.makedirs(os.path.dirname(path), exist_ok=True)\n",
    "    subprocess.check_call(\"bash ./run.sh ../guides/temp.adoc {}\".format(path),\n",
    "        shell=True, cwd='neo4j-guides/')\n",
    "    \n",
    "    return params\n"
   ]
  },
  {
   "cell_type": "code",
   "execution_count": 11,
   "metadata": {
    "collapsed": false
   },
   "outputs": [
    {
     "name": "stdout",
     "output_type": "stream",
     "text": [
      "CPU times: user 7h 52min 26s, sys: 2h 51min 50s, total: 10h 44min 16s\n",
      "Wall time: 23h 19min 48s\n"
     ]
    }
   ],
   "source": [
    "%%time\n",
    "for compound_id, disease_id in pairs:\n",
    "    params = create_guide(compound_id, disease_id)"
   ]
  },
  {
   "cell_type": "code",
   "execution_count": 12,
   "metadata": {
    "collapsed": true
   },
   "outputs": [],
   "source": [
    "#cp guides/example.html /home/dhimmel/neo4j/hetionet-data/guides/example.html"
   ]
  },
  {
   "cell_type": "code",
   "execution_count": 13,
   "metadata": {
    "collapsed": false
   },
   "outputs": [],
   "source": [
    "#cp guides/DB01048/DOID_10652.html /home/dhimmel/neo4j/hetionet-data/guides/example.html"
   ]
  },
  {
   "cell_type": "code",
   "execution_count": 14,
   "metadata": {
    "collapsed": true
   },
   "outputs": [],
   "source": [
    "rm ./guides/temp.adoc"
   ]
  },
  {
   "cell_type": "code",
   "execution_count": 15,
   "metadata": {
    "collapsed": false
   },
   "outputs": [
    {
     "name": "stdout",
     "output_type": "stream",
     "text": [
      "CPU times: user 40.3 s, sys: 6.1 s, total: 46.4 s\n",
      "Wall time: 30min 43s\n"
     ]
    }
   ],
   "source": [
    "%%time\n",
    "# Create a bzip2-tarball of guides\n",
    "! tar --create --bzip2 --file guides.tar.bz2 guides"
   ]
  }
 ],
 "metadata": {
  "anaconda-cloud": {},
  "kernelspec": {
   "display_name": "Python [default]",
   "language": "python",
   "name": "python3"
  },
  "language_info": {
   "codemirror_mode": {
    "name": "ipython",
    "version": 3
   },
   "file_extension": ".py",
   "mimetype": "text/x-python",
   "name": "python",
   "nbconvert_exporter": "python",
   "pygments_lexer": "ipython3",
   "version": "3.5.2"
  }
 },
 "nbformat": 4,
 "nbformat_minor": 0
}
